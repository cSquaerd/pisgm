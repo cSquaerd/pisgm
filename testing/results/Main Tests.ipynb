{
 "cells": [
  {
   "cell_type": "markdown",
   "metadata": {},
   "source": [
    "# Main function tests, done by Charlie Cook, April 20th, 2020"
   ]
  },
  {
   "cell_type": "code",
   "execution_count": 1,
   "metadata": {},
   "outputs": [],
   "source": [
    "import pisgmMain"
   ]
  },
  {
   "cell_type": "markdown",
   "metadata": {},
   "source": [
    "## Create a random key to test with"
   ]
  },
  {
   "cell_type": "code",
   "execution_count": 2,
   "metadata": {},
   "outputs": [],
   "source": [
    "k = pisgmMain.rsa.keyObj()"
   ]
  },
  {
   "cell_type": "markdown",
   "metadata": {},
   "source": [
    "## Separate the public and private keys"
   ]
  },
  {
   "cell_type": "code",
   "execution_count": 3,
   "metadata": {},
   "outputs": [],
   "source": [
    "u = pisgmMain.rsa.publicKey(k.exportU())"
   ]
  },
  {
   "cell_type": "code",
   "execution_count": 4,
   "metadata": {},
   "outputs": [],
   "source": [
    "r = pisgmMain.rsa.privateKey(k.exportR())"
   ]
  },
  {
   "cell_type": "markdown",
   "metadata": {},
   "source": [
    "## Write a message"
   ]
  },
  {
   "cell_type": "code",
   "execution_count": 5,
   "metadata": {},
   "outputs": [],
   "source": [
    "message = \"I've seen things you people wouldn't believe.\\nAttack ships on fire off the Shoulder of Orion.\\nI watched C-Beams, glitter in the dark off a Tannhauser gate.\\nAll those, moments, will be lost, in time... like tears, in rain.\\nTime, to die.\""
   ]
  },
  {
   "cell_type": "markdown",
   "metadata": {},
   "source": [
    "## Test the makeRequest function\n",
    "### (for testing, a `uid` of `13` is provided)"
   ]
  },
  {
   "cell_type": "code",
   "execution_count": 6,
   "metadata": {},
   "outputs": [
    {
     "name": "stdout",
     "output_type": "stream",
     "text": [
      "Timestamp:  4 b'^\\x9d\\xdf\\x80' \n",
      "Nonce:  16 b'\\x8d\\xc4\\x1b\\xfd\\x9b\\xd8\\xc2m\\xf4S\\x85p\\x1e\\xc8\\x94\\x9d' \n",
      "Request:  24 b'^\\x9d\\xdf\\x80\\x8d\\xc4\\x1b\\xfd\\x9b\\xd8\\xc2m\\xf4S\\x85p\\x1e\\xc8\\x94\\x9d\\x00\\x00\\x00\\r' \n",
      "Signature:  256 b\" \\xb9\\xa1v\\x84M\\x1c\\xe95P|\\xf2\\x84D \\x19\\x0e\\x8b9\\xc1\\xb7\\xe0\\xae\\xees\\xd2\\xa5j\\x14\\x90:\\xc1\\x9f\\xd8\\x1e[\\xae\\xa8\\x8c\\xc6\\x0b\\xf1\\xa3m\\n\\x1aj\\xf1\\xfe\\xa8\\xdc\\x04M\\xaa0&BD\\x860\\xc9B\\xaf/\\x96\\x0b@\\xf3\\xeb\\x82p\\xe9\\xd5\\x14\\xae^\\xfb\\xe6Z\\x92\\x8b\\x1fW69\\xb4\\x98~\\xfd\\xa4\\x97E$T\\x89?k\\xa6\\xe2\\xc95\\xd28%\\xfa\\t\\x81\\xc0\\xb3\\xe1\\x91\\n\\x12\\x90\\xb5\\xfb\\xd9.\\xd0\\x9b$wvT}\\xd1Y\\xe8c\\x83\\x02$\\xe3\\x9ash\\xf6J\\x84\\xc1&7\\xab\\x1f\\x15\\xae\\xdb!\\xdb*\\xc9\\xeb\\x18\\x9a\\x8cQ\\xff\\xfb\\xe5P\\xc0B9d7\\xf8l-K5\\x91WG\\xc9\\x87\\xe03x\\xdf\\xafQ\\xbaH\\x94\\xf0\\xa5\\xa0\\x0b$\\x10\\xe9S\\xbe@\\xc0s\\xeaW\\x8c\\x00Y\\xfah\\x01m)U\\xd1\\x00:\\x1e\\xebb\\xb4_Wp\\x91\\xe7\\x8f@\\x96\\xa6e\\x9a\\x8c\\x9eY\\xa2\\x19\\xc9\\x0bL\\x8dN\\x99\\xbe\\x8e\\x00\\xfe\\xc8\\x0f\\x89M\\xa5\\xc8m\\x12\\x9a('\\x1c\\t\\xbe\\xbbb\"\n"
     ]
    }
   ],
   "source": [
    "reply = pisgmMain.makeRequest(r, u, 13)"
   ]
  },
  {
   "cell_type": "markdown",
   "metadata": {},
   "source": [
    "## Test the makeImage function\n",
    "### (in the `reply` tuple, `0` is the signature of the request, `1` is the nonce, and `2` is the requisitioned AES key)"
   ]
  },
  {
   "cell_type": "code",
   "execution_count": 7,
   "metadata": {},
   "outputs": [
    {
     "name": "stdout",
     "output_type": "stream",
     "text": [
      "492\n"
     ]
    }
   ],
   "source": [
    " image = pisgmMain.makeImage(message, reply[0], reply[1], reply[2])"
   ]
  },
  {
   "cell_type": "code",
   "execution_count": 8,
   "metadata": {},
   "outputs": [
    {
     "data": {
      "image/png": "[encoded data removed]",
      "text/plain": [
       "<PIL.Image.Image image mode=L size=12x41 at 0x7F92FCA5F550>"
      ]
     },
     "execution_count": 8,
     "metadata": {},
     "output_type": "execute_result"
    }
   ],
   "source": [
    "image"
   ]
  },
  {
   "cell_type": "markdown",
   "metadata": {},
   "source": [
    "## Convert the image back to raw data"
   ]
  },
  {
   "cell_type": "code",
   "execution_count": 9,
   "metadata": {},
   "outputs": [],
   "source": [
    "raw = pisgmMain.img.grayImageToBytes(image)"
   ]
  },
  {
   "cell_type": "code",
   "execution_count": 10,
   "metadata": {},
   "outputs": [
    {
     "data": {
      "text/plain": [
       "b\" \\xb9\\xa1v\\x84M\\x1c\\xe95P|\\xf2\\x84D \\x19\\x0e\\x8b9\\xc1\\xb7\\xe0\\xae\\xees\\xd2\\xa5j\\x14\\x90:\\xc1\\x9f\\xd8\\x1e[\\xae\\xa8\\x8c\\xc6\\x0b\\xf1\\xa3m\\n\\x1aj\\xf1\\xfe\\xa8\\xdc\\x04M\\xaa0&BD\\x860\\xc9B\\xaf/\\x96\\x0b@\\xf3\\xeb\\x82p\\xe9\\xd5\\x14\\xae^\\xfb\\xe6Z\\x92\\x8b\\x1fW69\\xb4\\x98~\\xfd\\xa4\\x97E$T\\x89?k\\xa6\\xe2\\xc95\\xd28%\\xfa\\t\\x81\\xc0\\xb3\\xe1\\x91\\n\\x12\\x90\\xb5\\xfb\\xd9.\\xd0\\x9b$wvT}\\xd1Y\\xe8c\\x83\\x02$\\xe3\\x9ash\\xf6J\\x84\\xc1&7\\xab\\x1f\\x15\\xae\\xdb!\\xdb*\\xc9\\xeb\\x18\\x9a\\x8cQ\\xff\\xfb\\xe5P\\xc0B9d7\\xf8l-K5\\x91WG\\xc9\\x87\\xe03x\\xdf\\xafQ\\xbaH\\x94\\xf0\\xa5\\xa0\\x0b$\\x10\\xe9S\\xbe@\\xc0s\\xeaW\\x8c\\x00Y\\xfah\\x01m)U\\xd1\\x00:\\x1e\\xebb\\xb4_Wp\\x91\\xe7\\x8f@\\x96\\xa6e\\x9a\\x8c\\x9eY\\xa2\\x19\\xc9\\x0bL\\x8dN\\x99\\xbe\\x8e\\x00\\xfe\\xc8\\x0f\\x89M\\xa5\\xc8m\\x12\\x9a('\\x1c\\t\\xbe\\xbbb\\xc4\\xf4jo`\\x0b\\x01k\\xf8`\\x92Dg\\x81\\x90\\xde\\x11~\\xcc\\x8fdm\\xef\\x98\\x95\\x1cMZ\\xe14\\x18>\\xc2\\xab\\xaa,\\xf2D[<\\xc1\\xf0\\x1er\\xea\\xe5\\xc1\\x9672y\\x9b\\xec!du'\\xcb\\xb8\\xb3O\\xd14\\xf9&\\xad\\x10\\xbe\\xbc\\x9c\\x16\\x8e\\x90\\xba\\xc0\\x05r\\xc8M<f\\xfa\\x06k \\x9eF\\xe8\\xacyD\\rX'\\x05)\\xd1\\xe6j\\xce\\xce\\xeb\\xcb\\x1d\\x80\\x956\\x93au\\xfc\\xe9\\xde\\nS\\xab\\x96\\xf7\\xd8\\xfc\\t\\x99\\xf6\\xd2^\\xf5l7wi@D\\x0f6Xrj\\xf1vv\\xe0#i\\xee\\x84^${!)\\xb6\\xd6\\xd5\\xae\\x05\\xeaP\\x87J\\n\\xaa/\\xb9I`\\xee(\\xd7\\x13w\\xb4i\\xe2\\x80J\\xac#\\x94\\xc9i!O\\xf5d\\x15ll\\x01\\x02S\\x0c7\\x17\\x8d\\x05\\xcd>\\xd2\\xeam\\x11\\xfe\\xb7&X\\xf5\\xb4\\x9c\\xf7(\\xd2\\xb3\\x1dT\\xa2V\\xa3\\xfan\\xb1\\xf9\\xe9!\\x15\\xfaF;\\xd9\\xcb\\x89\\xfeM\\xecQ\\x02\\x8e\""
      ]
     },
     "execution_count": 10,
     "metadata": {},
     "output_type": "execute_result"
    }
   ],
   "source": [
    "raw"
   ]
  },
  {
   "cell_type": "code",
   "execution_count": 11,
   "metadata": {},
   "outputs": [
    {
     "data": {
      "text/plain": [
       "492"
      ]
     },
     "execution_count": 11,
     "metadata": {},
     "output_type": "execute_result"
    }
   ],
   "source": [
    "len(raw)"
   ]
  },
  {
   "cell_type": "markdown",
   "metadata": {},
   "source": [
    "## This byte matches the final byte of the signature, which is put at the beginning of the image. Thus, any bytes after it are ciphertext. To be safe, the length of the signature should be used in whatever `decryptImage` function is made"
   ]
  },
  {
   "cell_type": "code",
   "execution_count": 12,
   "metadata": {},
   "outputs": [
    {
     "data": {
      "text/plain": [
       "'0x62'"
      ]
     },
     "execution_count": 12,
     "metadata": {},
     "output_type": "execute_result"
    }
   ],
   "source": [
    "hex(raw[255])"
   ]
  },
  {
   "cell_type": "markdown",
   "metadata": {},
   "source": [
    "## Extract the ciphertext"
   ]
  },
  {
   "cell_type": "code",
   "execution_count": 13,
   "metadata": {},
   "outputs": [],
   "source": [
    "c = raw[256:]"
   ]
  },
  {
   "cell_type": "markdown",
   "metadata": {},
   "source": [
    "## Make an AES Radio object for decryption"
   ]
  },
  {
   "cell_type": "code",
   "execution_count": 14,
   "metadata": {},
   "outputs": [],
   "source": [
    "radio = pisgmMain.aes.aesRadio(reply[2], reply[1])"
   ]
  },
  {
   "cell_type": "markdown",
   "metadata": {},
   "source": [
    "## Decrypt the ciphertext to see the original message"
   ]
  },
  {
   "cell_type": "code",
   "execution_count": 15,
   "metadata": {},
   "outputs": [],
   "source": [
    "m = radio.decrypt(c)"
   ]
  },
  {
   "cell_type": "code",
   "execution_count": 16,
   "metadata": {},
   "outputs": [
    {
     "name": "stdout",
     "output_type": "stream",
     "text": [
      "I've seen things you people wouldn't believe.\n",
      "Attack ships on fire off the Shoulder of Orion.\n",
      "I watched C-Beams, glitter in the dark off a Tannhauser gate.\n",
      "All those, moments, will be lost, in time... like tears, in rain.\n",
      "Time, to die.\n",
      "\n"
     ]
    }
   ],
   "source": [
    "print(m.decode(\"ascii\"))"
   ]
  }
 ],
 "metadata": {
  "kernelspec": {
   "display_name": "Python 3",
   "language": "python",
   "name": "python3"
  },
  "language_info": {
   "codemirror_mode": {
    "name": "ipython",
    "version": 3
   },
   "file_extension": ".py",
   "mimetype": "text/x-python",
   "name": "python",
   "nbconvert_exporter": "python",
   "pygments_lexer": "ipython3",
   "version": "3.8.2"
  }
 },
 "nbformat": 4,
 "nbformat_minor": 2
}
