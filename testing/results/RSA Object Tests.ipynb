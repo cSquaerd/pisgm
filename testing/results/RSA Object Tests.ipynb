{
 "cells": [
  {
   "cell_type": "code",
   "execution_count": 1,
   "metadata": {},
   "outputs": [],
   "source": [
    "import pisgmRSA"
   ]
  },
  {
   "cell_type": "code",
   "execution_count": 2,
   "metadata": {},
   "outputs": [],
   "source": [
    "alice = pisgmRSA.keyObj()\n",
    "bob = pisgmRSA.keyObj()"
   ]
  },
  {
   "cell_type": "code",
   "execution_count": 4,
   "metadata": {},
   "outputs": [],
   "source": [
    "Ua_raw = alice.keyU.export_key()\n",
    "Ra_raw = alice.keyR.export_key()\n",
    "Ub_raw = bob.keyU.export_key()\n",
    "Rb_raw = bob.keyR.export_key()"
   ]
  },
  {
   "cell_type": "code",
   "execution_count": 6,
   "metadata": {},
   "outputs": [],
   "source": [
    "Ua = pisgmRSA.publicKey(Ua_raw)\n",
    "Ra = pisgmRSA.privateKey(Ra_raw)\n",
    "Ub = pisgmRSA.publicKey(Ub_raw)\n",
    "Rb = pisgmRSA.privateKey(Rb_raw)"
   ]
  },
  {
   "cell_type": "code",
   "execution_count": 7,
   "metadata": {},
   "outputs": [],
   "source": [
    "c = Ua.encrypt(\"Hello World\")"
   ]
  },
  {
   "cell_type": "code",
   "execution_count": 8,
   "metadata": {},
   "outputs": [
    {
     "data": {
      "text/plain": [
       "b'\\xa5@\\xa5vU\\xe1B\\x90sA:\\xcd,\\xe9X\\x85\\xb5\\x0c\\xac\\x8f\\x03\\xb5?@\\xb9D\\x0fB\\xdeW\\x0e\\x05\\x07\\xca\\x83\\xb2\\xf8!#h\\xd9\\xbff\\xd1\\xbb\\xe0\\xd4a\\x07\\x96\\xfaga9\\tI\\xc5\\xba5\\xf9\\xac\\xceF\\xd1n\\x8f8oP\\xc9\\xab.\\xaa\\xd0\\xf7\\xf9\\x97A\\x9d\\x13\\xcf\\xff\\x98\\x1f\\x93m0\\x81\\x84\"\\xe7\\xe9\\xcdl\\xd2U\\x9e\\xd3+N\\x97\\xe3C\"\\xab-\\xd3\\r\\xd3\\xb6\\xf0\\x95\\xa6\\xbeC\\xe0\\xc7M\\xdb\\x94\\x10 \\xc1O>1B\\x9aP\\xaaT\\x18\\xd0\\xe3\\xebA\\x19\\xc3\\xd3\\xed\\r\\xce\\xa0Lz\\x0f\\xb6~\\xcd\\x90U\\x06\\xb5\\xa0\\xffw\\xe2\\xeb\\xb7\\t\\x13?\\'\\xcf\\tV7\\x8e\\xba\\xc2?\\xc3`\\x7f\\xd5+\"2\\xfc\\xdce\\x02\\x1dg\\xbbJ\\x9fs\\xd1`6\\x97G9\\xd6?)\\xc0C\\x98<\\xd5\\xc9\\x93\\xd4\\x15\\xb8\\xc6t\\x9d\\xfd\\xae\\xa0\\xca\\x08lW_\\xfaN<\\xecP4\\\\=\\x0b\\xaf2X\\x11x\\x1f\\xad1\\x9fM\\x0f\\xce\\xbd\\x91\\xfe0$\\xe88\\xcdn\\xd7\\xa6\\x1e\\xad\\x13_u\\xe9'"
      ]
     },
     "execution_count": 8,
     "metadata": {},
     "output_type": "execute_result"
    }
   ],
   "source": [
    "c"
   ]
  },
  {
   "cell_type": "code",
   "execution_count": 9,
   "metadata": {},
   "outputs": [
    {
     "data": {
      "text/plain": [
       "b'Hello World'"
      ]
     },
     "execution_count": 9,
     "metadata": {},
     "output_type": "execute_result"
    }
   ],
   "source": [
    "Ra.decrypt(c)"
   ]
  },
  {
   "cell_type": "code",
   "execution_count": 10,
   "metadata": {},
   "outputs": [],
   "source": [
    "m = \"I've seen things you people wouldn't believe. Attack ships on fire on the Shoulder of Orion. I watched C-Beams, glitter in the dark of a Tannhauser gate. All those moments will be lost, in time, like tears, in rain. Time, to die.\""
   ]
  },
  {
   "cell_type": "code",
   "execution_count": 11,
   "metadata": {},
   "outputs": [],
   "source": [
    "s = Ra.sign(m)"
   ]
  },
  {
   "cell_type": "code",
   "execution_count": 12,
   "metadata": {},
   "outputs": [
    {
     "data": {
      "text/plain": [
       "True"
      ]
     },
     "execution_count": 12,
     "metadata": {},
     "output_type": "execute_result"
    }
   ],
   "source": [
    "Ua.verify(m, s)"
   ]
  },
  {
   "cell_type": "code",
   "execution_count": 13,
   "metadata": {},
   "outputs": [
    {
     "data": {
      "text/plain": [
       "b\"\\xa4Z\\xfd\\x98Z\\x92\\xdb\\x11Aw\\x86B\\xf5\\xb0U'(7\\x8f\\x94?7\\x98\\xd6\\xc8o\\xae\\x1dk\\xcb\\xfc\\xfd\\xb8\\x1c\\x97~:\\xda\\x85\\xf7H\\xec\\x8bMS\\x98\\xf5^e\\x9bZ\\xb9\\xc2T\\x94]\\xa9\\xb2U6\\xfep\\xee\\xb1\\x002\\xd6\\xb8\\xd8C\\x19\\xc0P>\\xee\\x96\\xf6]\\x13\\xdf9o\\xce\\x19\\xfb\\x82\\xa6\\x12yc\\x12I^\\xaf\\xd1s\\xe1S=}\\xe5\\x00\\xd9\\x03L1\\x9b\\xee*0\\xb4o\\x8c\\xdb\\xeeq\\xa7\\x91\\xe2\\xe4Y@Hl\\x9f5\\x8a\\xd7\\x8d\\x9a\\x83W?nZ\\x15\\xc7w\\xf7r\\xdcT\\xc4\\x87\\xa3\\x05\\xed\\xf2\\xcaD\\x01\\x95Pe&V\\xbb\\x9e\\n\\xc2\\xc4+\\xd2Z\\xff\\x18\\x8f\\x04\\x9d\\x93\\x98`5:9GZ\\xf3\\x1aU6C\\x03\\xdb\\xd6\\xa4\\xb0\\xba\\xb9KE\\xb3\\x0e\\xe4\\xb1\\xe3\\xbb\\xb1Z\\xc4@\\xdf\\xa7\\xeb\\xd5K\\xf8\\xd5z\\xcc\\x10\\xd0!\\x0c\\xde\\x86?\\xce\\xb6a=\\xe6P7vM\\xe1\\xa0\\xe5\\x01\\xd5;I{\\xe3\\xff\\r\\x1e^\\xc0\\xf7\\xf8V[]onR!\\xeb\\xa43\\xbaP%n\""
      ]
     },
     "execution_count": 13,
     "metadata": {},
     "output_type": "execute_result"
    }
   ],
   "source": [
    "s"
   ]
  },
  {
   "cell_type": "code",
   "execution_count": 14,
   "metadata": {},
   "outputs": [],
   "source": [
    "s2 = Rb.sign(m)"
   ]
  },
  {
   "cell_type": "code",
   "execution_count": 15,
   "metadata": {},
   "outputs": [
    {
     "data": {
      "text/plain": [
       "True"
      ]
     },
     "execution_count": 15,
     "metadata": {},
     "output_type": "execute_result"
    }
   ],
   "source": [
    "Ub.verify(m, s2)"
   ]
  },
  {
   "cell_type": "code",
   "execution_count": 16,
   "metadata": {},
   "outputs": [
    {
     "data": {
      "text/plain": [
       "b'C\\xa9\\xd6\\xc7\\xd4|\\xd0\\xc6U\\xab\\x12\\xac\\xd0\\xbf\\x05\\xca\\x8d\\'#\\xa1}\\x13\\x18\\x8a\\xf1\\x11\\x90\\xf3\\x86\\x15e\\xfd\\xc9\\xb6\\x81Q:\\xac\\xa3\\xc1dFQ\\x0c\\xd3S\\xb2w\\xac\\xd5\\x17\\x1cg\\xc3(z\\x9e\\x86\\xac\\x9d\\xf4\\xb0\\xec\\xecJ\\r\\xd1\\xd9\\'\\x8f\\x16:\\x110#\\xe1\\xa1\\xcc)h\\x89\\x1fb\\xda\\x81\\x7f+\\xa3v\\xf6QA\\x8f\\x17\\x98\\x94\\xe4\\x12\\x82\\xa2b\\x87\\xea\\xd3/\\x10\\xfb\\xe1\\xc9(\\xbf\\x0f@\\x8d\\xab\\xda\\x07\\x81\\x9fX\\xbb\\x87\\xcc\\xc6\\x86T\\xe6y\\xf7\\xcf\\xbc\\xa2\\x02JlAX\\xa9\\xb1\\x1f\\xae\\xeb\\xc3IvX\\x88\\x1f6\\x8a\\x18HjP\\xf5m\\x87\\xa4\\x9fe_d\"kb\\xe2\\xec\\x96=\\xd7\\x0c\\xae\\x8f\\x9c!\\xf7}\\x1e\\x1a\\'\\xbf\\xb8\\x12s\\x0f\\'\\xe9\\x00pZ\\x1434\\x0f+\\x04\\xcfs\\xf9\\xb5\\x81\\x96\\xb6\\x7f\\xbb\\xec\\x1b\\xcd^\\xaf\\x1ckb\\xb2\\x164\\xf2\\n$\\x0c\\xbf\\n\\xd5\\xc1X\\x86\\x85D\\x80\\xbb\\xad\\xb1<\\xe7\\x83\\xbb54\\x03`\\x9fao\\xb8\\xa3%\\xf1\\\\}\\xee\\x8e\\x16Y\\xa7+\\x19'"
      ]
     },
     "execution_count": 16,
     "metadata": {},
     "output_type": "execute_result"
    }
   ],
   "source": [
    "s2"
   ]
  },
  {
   "cell_type": "code",
   "execution_count": 17,
   "metadata": {},
   "outputs": [
    {
     "data": {
      "text/plain": [
       "False"
      ]
     },
     "execution_count": 17,
     "metadata": {},
     "output_type": "execute_result"
    }
   ],
   "source": [
    "Ub.verify(m, s)"
   ]
  },
  {
   "cell_type": "code",
   "execution_count": 18,
   "metadata": {},
   "outputs": [
    {
     "data": {
      "text/plain": [
       "\"'ve seen things you people wouldn't believe. Attack ships on fire on the Shoulder of Orion. I watched C-Beams, glitter in the dark of a Tannhauser gate. All those moments will be lost, in time, like tears, in rain. Time, to die.\""
      ]
     },
     "execution_count": 18,
     "metadata": {},
     "output_type": "execute_result"
    }
   ],
   "source": [
    "m[1:]"
   ]
  },
  {
   "cell_type": "code",
   "execution_count": 19,
   "metadata": {},
   "outputs": [
    {
     "data": {
      "text/plain": [
       "False"
      ]
     },
     "execution_count": 19,
     "metadata": {},
     "output_type": "execute_result"
    }
   ],
   "source": [
    "Ub.verify(m[1:], s2)"
   ]
  },
  {
   "cell_type": "code",
   "execution_count": null,
   "metadata": {},
   "outputs": [],
   "source": []
  }
 ],
 "metadata": {
  "kernelspec": {
   "display_name": "Python 3",
   "language": "python",
   "name": "python3"
  },
  "language_info": {
   "codemirror_mode": {
    "name": "ipython",
    "version": 3
   },
   "file_extension": ".py",
   "mimetype": "text/x-python",
   "name": "python",
   "nbconvert_exporter": "python",
   "pygments_lexer": "ipython3",
   "version": "3.8.2"
  }
 },
 "nbformat": 4,
 "nbformat_minor": 2
}
