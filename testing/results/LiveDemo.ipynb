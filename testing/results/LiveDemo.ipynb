{
 "cells": [
  {
   "cell_type": "markdown",
   "metadata": {},
   "source": [
    "# Live Demo"
   ]
  },
  {
   "cell_type": "code",
   "execution_count": 9,
   "metadata": {},
   "outputs": [],
   "source": [
    "import pisgmMain as pisgm"
   ]
  },
  {
   "cell_type": "code",
   "execution_count": 10,
   "metadata": {},
   "outputs": [],
   "source": [
    "myID = 8270950596653088861\n",
    "altID = 4994496195162594573\n",
    "gid = 3911253593270387734"
   ]
  },
  {
   "cell_type": "code",
   "execution_count": 11,
   "metadata": {},
   "outputs": [],
   "source": [
    "myKeyU = pisgm.rsa.publicKey(\"../server/testingData/8270950596653088861-U.pem\")\n",
    "myKeyR = pisgm.rsa.privateKey(\"../server/testingData/8270950596653088861-R.pem\")\n",
    "altKeyU = pisgm.rsa.publicKey(\"../server/testingData/4994496195162594573-U.pem\")\n",
    "altKeyR = pisgm.rsa.privateKey(\"../server/testingData/4994496195162594573-R.pem\")"
   ]
  },
  {
   "cell_type": "code",
   "execution_count": 12,
   "metadata": {},
   "outputs": [
    {
     "name": "stdout",
     "output_type": "stream",
     "text": [
      "Timestamp:  1588185546 \n",
      "Nonce:  9236285456942719867943394258944053217 \n",
      "Request:  32 b'^\\xa9\\xc9\\xca\\x06\\xf2\\xd8\\x08\\x1ad\\x80\\t-\\x01N\\xb5\\xa0\\x8c\\xcf\\xe1AHLIUb8MUABd' \n",
      "Signature:  256 b'\\x16Y\\xee\\t\\x15?\\x86:I\\xf5\\xcaj\\x85\\xd6\\xdbA\\xf7\\xda\\xea\\xec\\xc3\\x8b$)\\xfa\\x8e\\xd1\\xff\\x13\\xb8\\xc2,1\\x7f\\x8e,_\\x95\\xce\\x8f\\x1db*d\\xf9\\xc9\"\\xb2\\x89}V\\x88\\x11\\xc96\\x93Z\\xb5\\xb3m\\x82)\\xe4\\xe0\\xb2RG\\x06_\\xa6\\x01\\tK)\\x94\\x17\\x1bN\\x1d@\\xdd\\x03\\\\XY\\x8d\\xca\"\\x7f\\x8dV\\xd9\\x93\\x05x#\\xa2\\\\\\xed\\xb4Z\\\\\\xb24\\xe9A\\x1bL\\xc6\\xb1\\xbb\\x13y\\xec\\xb0y\\x96\\xfe\\x10\\xb7a\\xa1\\xcd\\x1e;\\x1ac\\xb3\\xbcu\\xb3\\xc7[\\xf4\\xb2e{\\xdcM?l3\\xbd,2w\\x11\\xcd\\xb6\\x1c\\xea\\xb1\\xf5\\x10d\\xff\\xd19\\xbb\\xe1d\\xa5\\xfc+n\\x1a)\\xeb\\xeem\\xeb\\x92\\x12e\\x04\\rw[|\\xf1+B\\x85\\xf9w\\xd7\\xd9\\x1a\\xc8\\xe5\\xafB\\xc3\\x92\\x0c\\x96\\xc6\\x16b\\xdd\\xec\\x0eo\\x91\\xab\\xd2w8\\xdfD\\x920\\xd5\\x9b\\xa5\\x02l\\x92uc\\xe1\\x8e\\xce\\xfci;\\xe9\\xc0E\\xe8\\x15\\xdf>cR\\x10\\xb3-\\x80\\x11\\xf3MM\\x1b\\xdbr\\xd0]r\\xcf\\x05T\\x80\\x8e\\xf0q'\n",
      "b'j4fyBtlnf6oPutaoiywIuPpbAX472c1SQlbPaPXKs5Jq9+xnHTLDYcDKntDkjqNXG7V2UXc5uOLQLU7ABpHyHv94giZ3ZE0tZW+rsvPdE2KqvTkD8MAQXrUsIuLaijdIzpLg2hqiux3yZy8OroayiJA057TuZ20uKlWnf4EfOnmjZh8XRGnHFEwoeWXVXoH3N3tGKeTxjWNjCBMFqVYtDLrTHuRsoGJ++XcT0mkpP8RQUJ2A7T4zEc5HNadxx4Uaffz6k4HVS5ERUy6bYBnvWVBlfmB5f/+8nklRyHmrD5J0fbTHIk4ADRuCITDHbsHaNHTJzzi9O33WZscItbb5kA=='\n"
     ]
    }
   ],
   "source": [
    "reply = pisgm.makeRequest(myKeyR, myID, gid)"
   ]
  },
  {
   "cell_type": "code",
   "execution_count": 13,
   "metadata": {},
   "outputs": [],
   "source": [
    " message = \"I've seen things you people wouldn't believe. Attack ships on fire off the Shoulder of Orion. I watched C-Beams, glitter in the dark off a Tannhauser gate. All those, moments, will be lost, in time, like tears... in rain. Time... to die. You've done a mna's job, sir. I guess you're through, huh? It's too bad she won't live! But then again, who does?\""
   ]
  },
  {
   "cell_type": "code",
   "execution_count": 14,
   "metadata": {},
   "outputs": [
    {
     "name": "stdout",
     "output_type": "stream",
     "text": [
      "640\n"
     ]
    },
    {
     "data": {
      "image/png": "[encoded data removed]",
      "text/plain": [
       "<PIL.Image.Image image mode=L size=20x32 at 0x7FB54C8511F0>"
      ]
     },
     "execution_count": 14,
     "metadata": {},
     "output_type": "execute_result"
    }
   ],
   "source": [
    "image = pisgm.makeImage(message, myID, reply)\n",
    "image"
   ]
  },
  {
   "cell_type": "code",
   "execution_count": 15,
   "metadata": {},
   "outputs": [
    {
     "data": {
      "text/plain": [
       "\"I've seen things you people wouldn't believe. Attack ships on fire off the Shoulder of Orion. I watched C-Beams, glitter in the dark off a Tannhauser gate. All those, moments, will be lost, in time, like tears... in rain. Time... to die. You've done a mna's job, sir. I guess you're through, huh? It's too bad she won't live! But then again, who does?\\n\""
      ]
     },
     "execution_count": 15,
     "metadata": {},
     "output_type": "execute_result"
    }
   ],
   "source": [
    "pisgm.decodeImage(image, myKeyR, myID, gid)"
   ]
  },
  {
   "cell_type": "code",
   "execution_count": 16,
   "metadata": {},
   "outputs": [
    {
     "data": {
      "text/plain": [
       "\"I've seen things you people wouldn't believe. Attack ships on fire off the Shoulder of Orion. I watched C-Beams, glitter in the dark off a Tannhauser gate. All those, moments, will be lost, in time, like tears... in rain. Time... to die. You've done a mna's job, sir. I guess you're through, huh? It's too bad she won't live! But then again, who does?\\n\""
      ]
     },
     "execution_count": 16,
     "metadata": {},
     "output_type": "execute_result"
    }
   ],
   "source": [
    "pisgm.decodeImage(image, altKeyR, altID, gid)"
   ]
  },
  {
   "cell_type": "code",
   "execution_count": null,
   "metadata": {},
   "outputs": [],
   "source": []
  }
 ],
 "metadata": {
  "kernelspec": {
   "display_name": "Python 3",
   "language": "python",
   "name": "python3"
  },
  "language_info": {
   "codemirror_mode": {
    "name": "ipython",
    "version": 3
   },
   "file_extension": ".py",
   "mimetype": "text/x-python",
   "name": "python",
   "nbconvert_exporter": "python",
   "pygments_lexer": "ipython3",
   "version": "3.8.2"
  }
 },
 "nbformat": 4,
 "nbformat_minor": 2
}
