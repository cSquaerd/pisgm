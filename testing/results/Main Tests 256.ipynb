{
 "cells": [
  {
   "cell_type": "markdown",
   "metadata": {},
   "source": [
    "# Main function tests, with 256 bit AES keys, done by Charlie Cook, April 22nd, 2020"
   ]
  },
  {
   "cell_type": "code",
   "execution_count": 1,
   "metadata": {},
   "outputs": [],
   "source": [
    "import pisgmMain"
   ]
  },
  {
   "cell_type": "markdown",
   "metadata": {},
   "source": [
    "## Create a random key to test with"
   ]
  },
  {
   "cell_type": "code",
   "execution_count": 2,
   "metadata": {},
   "outputs": [],
   "source": [
    "k = pisgmMain.rsa.keyObj()"
   ]
  },
  {
   "cell_type": "markdown",
   "metadata": {},
   "source": [
    "## Separate the public and private keys"
   ]
  },
  {
   "cell_type": "code",
   "execution_count": 3,
   "metadata": {},
   "outputs": [],
   "source": [
    "u = pisgmMain.rsa.publicKey(k.exportU())"
   ]
  },
  {
   "cell_type": "code",
   "execution_count": 4,
   "metadata": {},
   "outputs": [],
   "source": [
    "r = pisgmMain.rsa.privateKey(k.exportR())"
   ]
  },
  {
   "cell_type": "markdown",
   "metadata": {},
   "source": [
    "## Write a message"
   ]
  },
  {
   "cell_type": "code",
   "execution_count": 5,
   "metadata": {},
   "outputs": [],
   "source": [
    "message = \"I've seen things you people wouldn't believe.\\nAttack ships on fire off the Shoulder of Orion.\\nI watched C-Beams, glitter in the dark off a Tannhauser gate.\\nAll those, moments, will be lost, in time... like tears, in rain.\\nTime, to die.\""
   ]
  },
  {
   "cell_type": "markdown",
   "metadata": {},
   "source": [
    "## Test the makeRequest function\n",
    "### (for testing, a `uid` of `13` is provided)"
   ]
  },
  {
   "cell_type": "code",
   "execution_count": 6,
   "metadata": {},
   "outputs": [
    {
     "name": "stdout",
     "output_type": "stream",
     "text": [
      "Timestamp:  4 b'^\\xa0\\x8e3' \n",
      "Nonce:  16 b\"\\xbf\\xe2y\\xec]'\\xdb\\x86\\xa8 \\xb0\\xd5\\xcbI\\xb9\\x98\" \n",
      "Request:  30 b\"^\\xa0\\x8e3\\xbf\\xe2y\\xec]'\\xdb\\x86\\xa8 \\xb0\\xd5\\xcbI\\xb9\\x980000000013\" \n",
      "Signature:  256 b'>\\xf43\\xaa\\x146\\r\\xb8\\xc9*\\xa5,\\x98\\xb0:\\xb4\\x03\\xf1\\x15\\xd9!:\\xb6\\xb44\\x03\\xfc:\\'\\x11\\x07\\x12dQD\\\\m\"]\\xea\\xc66\\x7f\\x94\\xea\\xfd5\\xee\\xdbB\\x96+\\x87\\xd1\\xa5\\xf0E\\xc8\\x0bJ\\xf6r/\\xd5\\xa7r\\xe1\\x7f\\xe5\\xd8r!\\x93\\x90\\xe0\\xacF\\xc0\\xb0jK\\xf3q\\xbd\\x81\\x96[\\x10\\x910vQ%s\\x07\\\\\\xdd\\xd3\\xe4E\\xd6\\xe1\\xf0m \\xb0=\\xac\\xa4m\\x90\\x98}S\\x13\\x12\\xb6\\xa0k\\x0b\\xb8v\\xd3\\x08\\xbb\\xd3\\xcc\\x12 \\x89\\xaf]g/\\xde\\x16\\t\\x14\\xa8\\xfc\\xab\\xcf\\xb4\\x94\\xda/A\\xee#H\\xfdf\\n\\xa7vR\\xc5\\x81\\x7f\\x88\\x15\\x05\\x03\\xb6\\x8a\\xdd\\xe8\\xf7\\x82\\x19\\xab`\\xbc\\x0e\\xf1Gb\\xb5\\x1c\\xce\\xdd\\xd08\\xcaY\\xc1K\\xb2\\xb9c_\\x93!*\\xcd\\xd8\\xc4v\\x1b\\x05\\r\\x90\\xc0\\x0c\\xe8\\xd6\\xc3\\x13,\\xe4V\\x90\\xf3:\\xf0Gm\\x89{7+\\x16\\x8b\\xc4\\xbd\\xf5y\\x9c`\\xf8\\xa4\\x9f\\x0b\\x05\\xc6\\xae\\x10\\xd2z3\\x12N\\x9d[\\xf6Y\\x0b\\xfc|\\xde\\xbf\\'*7%\\x1e'\n"
     ]
    }
   ],
   "source": [
    "reply = pisgmMain.makeRequest(r, u, \"0000000013\", \"0000002161\")"
   ]
  },
  {
   "cell_type": "markdown",
   "metadata": {},
   "source": [
    "## Test the makeImage function\n",
    "### (in the `reply` tuple, `0` is the signature of the request, `1` is the nonce, and `2` is the requisitioned AES key)"
   ]
  },
  {
   "cell_type": "code",
   "execution_count": 7,
   "metadata": {},
   "outputs": [
    {
     "name": "stdout",
     "output_type": "stream",
     "text": [
      "492\n"
     ]
    }
   ],
   "source": [
    " image = pisgmMain.makeImage(message, reply)"
   ]
  },
  {
   "cell_type": "code",
   "execution_count": 8,
   "metadata": {},
   "outputs": [
    {
     "data": {
      "image/png": "[encoded data removed]",
      "text/plain": [
       "<PIL.Image.Image image mode=L size=12x41 at 0x7F95976B9310>"
      ]
     },
     "execution_count": 8,
     "metadata": {},
     "output_type": "execute_result"
    }
   ],
   "source": [
    "image"
   ]
  },
  {
   "cell_type": "markdown",
   "metadata": {},
   "source": [
    "## Convert the image back to raw data"
   ]
  },
  {
   "cell_type": "code",
   "execution_count": 9,
   "metadata": {},
   "outputs": [],
   "source": [
    "raw = pisgmMain.img.grayImageToBytes(image)"
   ]
  },
  {
   "cell_type": "code",
   "execution_count": 10,
   "metadata": {},
   "outputs": [
    {
     "data": {
      "text/plain": [
       "b'>\\xf43\\xaa\\x146\\r\\xb8\\xc9*\\xa5,\\x98\\xb0:\\xb4\\x03\\xf1\\x15\\xd9!:\\xb6\\xb44\\x03\\xfc:\\'\\x11\\x07\\x12dQD\\\\m\"]\\xea\\xc66\\x7f\\x94\\xea\\xfd5\\xee\\xdbB\\x96+\\x87\\xd1\\xa5\\xf0E\\xc8\\x0bJ\\xf6r/\\xd5\\xa7r\\xe1\\x7f\\xe5\\xd8r!\\x93\\x90\\xe0\\xacF\\xc0\\xb0jK\\xf3q\\xbd\\x81\\x96[\\x10\\x910vQ%s\\x07\\\\\\xdd\\xd3\\xe4E\\xd6\\xe1\\xf0m \\xb0=\\xac\\xa4m\\x90\\x98}S\\x13\\x12\\xb6\\xa0k\\x0b\\xb8v\\xd3\\x08\\xbb\\xd3\\xcc\\x12 \\x89\\xaf]g/\\xde\\x16\\t\\x14\\xa8\\xfc\\xab\\xcf\\xb4\\x94\\xda/A\\xee#H\\xfdf\\n\\xa7vR\\xc5\\x81\\x7f\\x88\\x15\\x05\\x03\\xb6\\x8a\\xdd\\xe8\\xf7\\x82\\x19\\xab`\\xbc\\x0e\\xf1Gb\\xb5\\x1c\\xce\\xdd\\xd08\\xcaY\\xc1K\\xb2\\xb9c_\\x93!*\\xcd\\xd8\\xc4v\\x1b\\x05\\r\\x90\\xc0\\x0c\\xe8\\xd6\\xc3\\x13,\\xe4V\\x90\\xf3:\\xf0Gm\\x89{7+\\x16\\x8b\\xc4\\xbd\\xf5y\\x9c`\\xf8\\xa4\\x9f\\x0b\\x05\\xc6\\xae\\x10\\xd2z3\\x12N\\x9d[\\xf6Y\\x0b\\xfc|\\xde\\xbf\\'*7%\\x1e\\x1d\\x9b\\xdfK\\xac\\x88\\xcf]\\xce\\xa1\\x1b\\x0c\\xbd\\xd0en\\xe60j\\xcf\\x81\\x159\\x94]\\xff_\\xadCxO}\\xd5\\xf0I\\xaa\\x10Pv\\xd3\\xf6\\xd8\\xb0Kg\\xab\\x94@QG\\x9f\\xf6\\xf9\\x9d\\xf6;\\r\\xb2K\\x92Vl\\xb3c\\x98w\\xc1Q\\xed+C\\xa1\\xd70\\x94\\\\\\x0e\\xed\\r\\x8bjG\\x0c\"\\x92-\\x88\\xd9\\xc0h\\xa6\\x90\\xc4\\xed\\x0c\\xdb\\x99\\xd9-a\\xdbh5Gw\\xe0p\\x88\\'\\xac;\\xc9\\xdc\\xb2vE\\xd6\\xc1S\\x86\\x03\\x99\\xe9\\xac\\xb5\\xab#\\xe1\\xde\\x00\\xfc\\xed\\xdd\\xf5\\x03\\xfbt\\x84z\\xb2gj\\xe8\\x15\\xe1\\x07 \\xc2B\\x96\\xfbt8\\x13\\x93\\x85\\xce\\x0e\\x8e\\x94\\xf8d\\xdbHk\\xe7\\x15\\xe8[\\xc9Fl\\xf9f\\x8b\\xc8z\\x10\\x92\\x1c\\xe1\\xa3\\xde\\x01\\xcd\\x14\\xab\\xcb\\xb7\\x9b]\\xa6\\x84\\x1e\\xe9\\xa96\\xcb\\xb0\\xcf\\x9c\\x91\\xdb\\xd67\\x05\\x9a\\x18\\x0f\\xa3\\x10\\x9aO \\x0f\\xba\\x0e\\xfe\\xa3\\xed\\xb0M1P\\x11\\xf9\\x12Qy;\\xc0h\\x07e\\xe5\\x94'"
      ]
     },
     "execution_count": 10,
     "metadata": {},
     "output_type": "execute_result"
    }
   ],
   "source": [
    "raw"
   ]
  },
  {
   "cell_type": "code",
   "execution_count": 11,
   "metadata": {},
   "outputs": [
    {
     "data": {
      "text/plain": [
       "492"
      ]
     },
     "execution_count": 11,
     "metadata": {},
     "output_type": "execute_result"
    }
   ],
   "source": [
    "len(raw)"
   ]
  },
  {
   "cell_type": "markdown",
   "metadata": {},
   "source": [
    "## This byte matches the final byte of the signature, which is put at the beginning of the image. Thus, any bytes after it are ciphertext. To be safe, the length of the signature should be used in whatever `decryptImage` function is made"
   ]
  },
  {
   "cell_type": "code",
   "execution_count": 12,
   "metadata": {},
   "outputs": [
    {
     "data": {
      "text/plain": [
       "'0x1e'"
      ]
     },
     "execution_count": 12,
     "metadata": {},
     "output_type": "execute_result"
    }
   ],
   "source": [
    "hex(raw[255])"
   ]
  },
  {
   "cell_type": "markdown",
   "metadata": {},
   "source": [
    "## Extract the ciphertext"
   ]
  },
  {
   "cell_type": "code",
   "execution_count": 13,
   "metadata": {},
   "outputs": [],
   "source": [
    "c = raw[256:]"
   ]
  },
  {
   "cell_type": "markdown",
   "metadata": {},
   "source": [
    "## Make an AES Radio object for decryption"
   ]
  },
  {
   "cell_type": "code",
   "execution_count": 14,
   "metadata": {},
   "outputs": [],
   "source": [
    "radio = pisgmMain.aes.aesRadio(reply.aesKey, reply.nonce)"
   ]
  },
  {
   "cell_type": "markdown",
   "metadata": {},
   "source": [
    "## Decrypt the ciphertext to see the original message"
   ]
  },
  {
   "cell_type": "code",
   "execution_count": 15,
   "metadata": {},
   "outputs": [],
   "source": [
    "m = radio.decrypt(c)"
   ]
  },
  {
   "cell_type": "code",
   "execution_count": 16,
   "metadata": {},
   "outputs": [
    {
     "name": "stdout",
     "output_type": "stream",
     "text": [
      "I've seen things you people wouldn't believe.\n",
      "Attack ships on fire off the Shoulder of Orion.\n",
      "I watched C-Beams, glitter in the dark off a Tannhauser gate.\n",
      "All those, moments, will be lost, in time... like tears, in rain.\n",
      "Time, to die.\n",
      "\n"
     ]
    }
   ],
   "source": [
    "print(m.decode(\"ascii\"))"
   ]
  }
 ],
 "metadata": {
  "kernelspec": {
   "display_name": "Python 3",
   "language": "python",
   "name": "python3"
  },
  "language_info": {
   "codemirror_mode": {
    "name": "ipython",
    "version": 3
   },
   "file_extension": ".py",
   "mimetype": "text/x-python",
   "name": "python",
   "nbconvert_exporter": "python",
   "pygments_lexer": "ipython3",
   "version": "3.8.2"
  }
 },
 "nbformat": 4,
 "nbformat_minor": 2
}
