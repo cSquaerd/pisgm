{
 "cells": [
  {
   "cell_type": "markdown",
   "metadata": {},
   "source": [
    "# Main function tests, with 256 bit AES keys, done by Charlie Cook, April 22nd, 2020"
   ]
  },
  {
   "cell_type": "code",
   "execution_count": 1,
   "metadata": {},
   "outputs": [],
   "source": [
    "import pisgmMain"
   ]
  },
  {
   "cell_type": "markdown",
   "metadata": {},
   "source": [
    "## Create a random key to test with"
   ]
  },
  {
   "cell_type": "code",
   "execution_count": 2,
   "metadata": {},
   "outputs": [],
   "source": [
    "k = pisgmMain.rsa.keyObj()"
   ]
  },
  {
   "cell_type": "markdown",
   "metadata": {},
   "source": [
    "## Separate the public and private keys"
   ]
  },
  {
   "cell_type": "code",
   "execution_count": 3,
   "metadata": {},
   "outputs": [],
   "source": [
    "u = pisgmMain.rsa.publicKey(k.exportU())"
   ]
  },
  {
   "cell_type": "code",
   "execution_count": 4,
   "metadata": {},
   "outputs": [],
   "source": [
    "r = pisgmMain.rsa.privateKey(k.exportR())"
   ]
  },
  {
   "cell_type": "markdown",
   "metadata": {},
   "source": [
    "## Write a message"
   ]
  },
  {
   "cell_type": "code",
   "execution_count": 5,
   "metadata": {},
   "outputs": [],
   "source": [
    "message = \"I've seen things you people wouldn't believe.\\nAttack ships on fire off the Shoulder of Orion.\\nI watched C-Beams, glitter in the dark off a Tannhauser gate.\\nAll those, moments, will be lost, in time... like tears, in rain.\\nTime, to die.\""
   ]
  },
  {
   "cell_type": "markdown",
   "metadata": {},
   "source": [
    "## Test the makeRequest function\n",
    "### (for testing, a `uid` of `13` is provided)"
   ]
  },
  {
   "cell_type": "code",
   "execution_count": 6,
   "metadata": {},
   "outputs": [
    {
     "name": "stdout",
     "output_type": "stream",
     "text": [
      "Timestamp:  4 b'^\\xa0\\x96\\x01' \n",
      "Nonce:  16 b'\\x032w\\xf0\\xf2\\xd2\\xb1\\xfb\\xfe*\\x86G0\\x82M\\x80' \n",
      "Request:  32 b'^\\xa0\\x96\\x01\\x032w\\xf0\\xf2\\xd2\\xb1\\xfb\\xfe*\\x86G0\\x82M\\x80AAAAAAAAAAAN' \n",
      "Signature:  256 b'\\x10(\\x10\\xc6\\xf6\\x9b\\xcbwF\\x18\\xd6\\xb6\\xb8\\xbaNX\\xc7cj\\x06,\\xee\\xbez\\xb4+b\\xa0.\\xcd\\xbd6B\\xe9\\x0e+\\x9a\\xe3w:\\xa0\\x9f\\x9c\\xba-\\x9d\\x94\\x1c\\x01\\x08\\xcc^D/\\xc2\\xe1m\\xba\\xcc\\x10\"\\xcdZ\\x9bFO\\x9e\\x86!\\x0c\\xf1\\xf5\\xd4\\'T\\xb4d\\x8d\\x81\\x01l\\xd4mBeR1OZ\\x17\\xfb\\xe3\\x7f\\x9d\\x04\\x05\\xcct!\\x93B\\xd2\\x04\\x05n\\xb9\\xdd\\x0f\\x08<Gr4o\\xc8\\xec\\xb7\\xa6\\xa9\\xf7\\x13o;|\\xaf\\x91\\xc4%qk\\xb7\\x82V$\\x9c\\x96\\xf15J:[K\\xeb\\xd6\\xdb$\\xa9\\x8c\\x0feGhx\\xdc\\xc1\\x1c\\xa7u\\xa5\\x810\\xe4f5\\xf4\\x1b\\x0c\\xd5CC\\xfeK\"\\xe5\\xcf\\xa9\\x9d\\xaf/\\xcc\\xf6l.\\x05T\\xe6\\xb0\\xa43\\x8b\\xdb\\x99\\xac\\x05\\x18\\x19zo\\'\\xdc\\xcatS\\x82 a\\xa4\\xf4\\xd2:\\xba\\xd4\\xc4P\\xb2:u2bt<8\\xa1\\xce\\xce\\x8b\\xd6<Oo\\x1c^U\\xd5\\x15n\\xef\\xcd\\xaa\\x8f\\xca\\xad\\xb1\\x18I8IV\\xdb\\xab\\xa1\\x97\\xcf#\\xe8\\xbb'\n"
     ]
    }
   ],
   "source": [
    "reply = pisgmMain.makeRequest(r, u, 13, 2161)"
   ]
  },
  {
   "cell_type": "markdown",
   "metadata": {},
   "source": [
    "## Test the makeImage function\n",
    "### (in the `reply` tuple, `0` is the signature of the request, `1` is the nonce, and `2` is the requisitioned AES key)"
   ]
  },
  {
   "cell_type": "code",
   "execution_count": 7,
   "metadata": {},
   "outputs": [
    {
     "name": "stdout",
     "output_type": "stream",
     "text": [
      "492\n"
     ]
    }
   ],
   "source": [
    " image = pisgmMain.makeImage(message, reply)"
   ]
  },
  {
   "cell_type": "code",
   "execution_count": 8,
   "metadata": {},
   "outputs": [
    {
     "data": {
      "image/png": "[encoded data removed]",
      "text/plain": [
       "<PIL.Image.Image image mode=L size=12x41 at 0x7EFF4932B0A0>"
      ]
     },
     "execution_count": 8,
     "metadata": {},
     "output_type": "execute_result"
    }
   ],
   "source": [
    "image"
   ]
  },
  {
   "cell_type": "markdown",
   "metadata": {},
   "source": [
    "## Convert the image back to raw data"
   ]
  },
  {
   "cell_type": "code",
   "execution_count": 9,
   "metadata": {},
   "outputs": [],
   "source": [
    "raw = pisgmMain.img.grayImageToBytes(image)"
   ]
  },
  {
   "cell_type": "code",
   "execution_count": 10,
   "metadata": {},
   "outputs": [
    {
     "data": {
      "text/plain": [
       "b'\\x10(\\x10\\xc6\\xf6\\x9b\\xcbwF\\x18\\xd6\\xb6\\xb8\\xbaNX\\xc7cj\\x06,\\xee\\xbez\\xb4+b\\xa0.\\xcd\\xbd6B\\xe9\\x0e+\\x9a\\xe3w:\\xa0\\x9f\\x9c\\xba-\\x9d\\x94\\x1c\\x01\\x08\\xcc^D/\\xc2\\xe1m\\xba\\xcc\\x10\"\\xcdZ\\x9bFO\\x9e\\x86!\\x0c\\xf1\\xf5\\xd4\\'T\\xb4d\\x8d\\x81\\x01l\\xd4mBeR1OZ\\x17\\xfb\\xe3\\x7f\\x9d\\x04\\x05\\xcct!\\x93B\\xd2\\x04\\x05n\\xb9\\xdd\\x0f\\x08<Gr4o\\xc8\\xec\\xb7\\xa6\\xa9\\xf7\\x13o;|\\xaf\\x91\\xc4%qk\\xb7\\x82V$\\x9c\\x96\\xf15J:[K\\xeb\\xd6\\xdb$\\xa9\\x8c\\x0feGhx\\xdc\\xc1\\x1c\\xa7u\\xa5\\x810\\xe4f5\\xf4\\x1b\\x0c\\xd5CC\\xfeK\"\\xe5\\xcf\\xa9\\x9d\\xaf/\\xcc\\xf6l.\\x05T\\xe6\\xb0\\xa43\\x8b\\xdb\\x99\\xac\\x05\\x18\\x19zo\\'\\xdc\\xcatS\\x82 a\\xa4\\xf4\\xd2:\\xba\\xd4\\xc4P\\xb2:u2bt<8\\xa1\\xce\\xce\\x8b\\xd6<Oo\\x1c^U\\xd5\\x15n\\xef\\xcd\\xaa\\x8f\\xca\\xad\\xb1\\x18I8IV\\xdb\\xab\\xa1\\x97\\xcf#\\xe8\\xbbC\\xef\\x7fZWU\\xac\\x1b\\xa1\\xcez\\xa7!\\xea\\xfd\\xc3\\x7fO\\x17qM\\x9b._\\xfbc\\xe3\\xc0\\x10\\xc4Z[\\x14\\xd1J\\xf1\\xeb)\\xb8~\\x9a\\xd6\\x88\\xd3\\xf0\\xb09\\x0c\\x0e[\\xbb\\x13s?C[\\xbc\\xb6\\xa1\\xd1)k\\x16\\x88\\x13J\\xe8w\\xf2JQ7P\\xfdj\\x93^\\xdb1\\x95\\xf3\\xb2\\xb0zbGE\\x05e\\x03\\x81\\xc7MZ\\xf8\\xcb\\xe9~\\x17\\xa9\\xd1\\xd9\\xcc]MI\"\\x04it\\xb5\"\\n\\xd1x\\xeaM\\rT\\xf8\\xbf\\xeeC\\tB,@\\xc8\\xf06\\xaby\\xc93\\xf4\\x9d\\xed\\xfc\\xc3\\r\\xe6K\\xaa|\\xb7#\\x99\\xd5s\\xa2\\xa4>\\xb7%\\xeb\\xab\\x88|\\x11\\xd3\\x98\\xd1\\xfe\\xeb\\xad\\xb4xp\\xdd\\xc4\\x13v\\xbe\\x95R\\xbe|[0-\\x0c\\'\\x94\\x90\\xf6)\\xe8!\\x97LM\\xb0\\x96D\\xba.O\\x1e73\\x98\\xc5\\x11\\x80\\xf0i (\\xc6a\\xcdf\\xf4`)\\x97N\\x827\\r\\r\\xca\\x847qbz \\xabH\\xa5\\xc7\\xac\\x13X{'"
      ]
     },
     "execution_count": 10,
     "metadata": {},
     "output_type": "execute_result"
    }
   ],
   "source": [
    "raw"
   ]
  },
  {
   "cell_type": "code",
   "execution_count": 11,
   "metadata": {},
   "outputs": [
    {
     "data": {
      "text/plain": [
       "492"
      ]
     },
     "execution_count": 11,
     "metadata": {},
     "output_type": "execute_result"
    }
   ],
   "source": [
    "len(raw)"
   ]
  },
  {
   "cell_type": "markdown",
   "metadata": {},
   "source": [
    "## This byte matches the final byte of the signature, which is put at the beginning of the image. Thus, any bytes after it are ciphertext. To be safe, the length of the signature should be used in whatever `decryptImage` function is made"
   ]
  },
  {
   "cell_type": "code",
   "execution_count": 12,
   "metadata": {},
   "outputs": [
    {
     "data": {
      "text/plain": [
       "'0xbb'"
      ]
     },
     "execution_count": 12,
     "metadata": {},
     "output_type": "execute_result"
    }
   ],
   "source": [
    "hex(raw[255])"
   ]
  },
  {
   "cell_type": "markdown",
   "metadata": {},
   "source": [
    "## Extract the ciphertext"
   ]
  },
  {
   "cell_type": "code",
   "execution_count": 13,
   "metadata": {},
   "outputs": [],
   "source": [
    "c = raw[256:]"
   ]
  },
  {
   "cell_type": "markdown",
   "metadata": {},
   "source": [
    "## Make an AES Radio object for decryption"
   ]
  },
  {
   "cell_type": "code",
   "execution_count": 14,
   "metadata": {},
   "outputs": [],
   "source": [
    "radio = pisgmMain.aes.aesRadio(reply.aesKey, reply.nonce)"
   ]
  },
  {
   "cell_type": "markdown",
   "metadata": {},
   "source": [
    "## Decrypt the ciphertext to see the original message"
   ]
  },
  {
   "cell_type": "code",
   "execution_count": 15,
   "metadata": {},
   "outputs": [],
   "source": [
    "m = radio.decrypt(c)"
   ]
  },
  {
   "cell_type": "code",
   "execution_count": 16,
   "metadata": {},
   "outputs": [
    {
     "name": "stdout",
     "output_type": "stream",
     "text": [
      "I've seen things you people wouldn't believe.\n",
      "Attack ships on fire off the Shoulder of Orion.\n",
      "I watched C-Beams, glitter in the dark off a Tannhauser gate.\n",
      "All those, moments, will be lost, in time... like tears, in rain.\n",
      "Time, to die.\n",
      "\n"
     ]
    }
   ],
   "source": [
    "print(m.decode(\"ascii\"))"
   ]
  }
 ],
 "metadata": {
  "kernelspec": {
   "display_name": "Python 3",
   "language": "python",
   "name": "python3"
  },
  "language_info": {
   "codemirror_mode": {
    "name": "ipython",
    "version": 3
   },
   "file_extension": ".py",
   "mimetype": "text/x-python",
   "name": "python",
   "nbconvert_exporter": "python",
   "pygments_lexer": "ipython3",
   "version": "3.8.2"
  }
 },
 "nbformat": 4,
 "nbformat_minor": 2
}
