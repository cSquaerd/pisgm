{
 "cells": [
  {
   "cell_type": "markdown",
   "metadata": {},
   "source": [
    "# Live Demo"
   ]
  },
  {
   "cell_type": "code",
   "execution_count": 1,
   "metadata": {},
   "outputs": [],
   "source": [
    "import pisgmMain as pisgm"
   ]
  },
  {
   "cell_type": "code",
   "execution_count": 2,
   "metadata": {},
   "outputs": [],
   "source": [
    "myID = 8270950596653088861\n",
    "altID = 4994496195162594573\n",
    "gid = 3911253593270387734"
   ]
  },
  {
   "cell_type": "code",
   "execution_count": 3,
   "metadata": {},
   "outputs": [],
   "source": [
    "myKeyU = pisgm.rsa.publicKey(\"../server/testingData/8270950596653088861-U.pem\")\n",
    "myKeyR = pisgm.rsa.privateKey(\"../server/testingData/8270950596653088861-R.pem\")\n",
    "altKeyU = pisgm.rsa.publicKey(\"../server/testingData/4994496195162594573-U.pem\")\n",
    "altKeyR = pisgm.rsa.privateKey(\"../server/testingData/4994496195162594573-R.pem\")"
   ]
  },
  {
   "cell_type": "code",
   "execution_count": 4,
   "metadata": {},
   "outputs": [
    {
     "name": "stdout",
     "output_type": "stream",
     "text": [
      "Timestamp:  1588132581 \n",
      "Nonce:  137426867071531847897008996089023551867 \n",
      "Request:  32 b\"^\\xa8\\xfa\\xe5gcs\\xac'\\xe18\\xf4\\x9a\\xc8\\x13bVa\\xd9{AHLIUb8MUABd\" \n",
      "Signature:  256 b'{\\xd4\\xdbgw\\x03>_#\\xa9\\xe55M\\xb7\\xf8z\\xbc>H\\x82\\xe2\\xf0\\x9eQB@:+:\\xd8\\x8c4\\xbf\\xe6\\x97o?\\xcb^%\\xa5\\x88::\\x0bT\\xe4\\xfb%y\\x85\\xb6H\\x81O\\xb2 \\xe4\\xc8\\x98\\xa8\\x87Y\\xf6\\x15\\xac8S\\xdf^K%\\x91l\\x94\\x85\\xae\\xc4\\x8eM\\xfd\\xe0\\x19\\x11C\\x92\\xc8\\x82\\xf7\\x86\\xcc\\x03\\x1b,\\x82\\xe9Y>\\x81\\xd8J\\xd7\\x16\\x95\\xd3T2c\\x8b\\xfeW\\xe5\\x04\\x1e1\\xaf\\xf0A\\xad\\xa2f$\\xac\\xcf\\x87E\\x0b\\x85\\x9e\\xdcv{\\xba\\xda\\x0f\\x9f`\\xbc\\xd9P\\xd1\\x1a\\nn?\\xe65m\\xfd\\x93\\x89\\xd46\\x8aC\\xef\\x84\\x15;oN\\xc4\\xc5\\xa0\\xa2G\\xe0\\xf27J\\xcd\\xc6\\xf7\\x0c\\xda\\xdb%ti0)J\\x87\\x99M\\x15\\x94ud\\x16\\x86r\\xd5\\xa1\\x8bE\\xf1\\xf6&\\x0cP\\xdd$~U\\x14l\\xb2\\xe0\\x84\\x1d\\x12\\x02n}\\x0b\\xf1z~\\xff\\x02\\x1fBM\\xd7\\xca\\x0e,\\xa3\\xa3\\xcc\\x91{\\xd8\\x04\\xefV\\x81\\x87\\xdeA\\xa4\\xe6\\xce\\xf8\\xa3\\xdd\\r\\x98\\xa2l\\xed4tk\\x9b'\n",
      "b'qPc0CepIjSbUDGskts/LZ4xbdL14E7kPu4KXcQlQku9FX0cTOLeJ/a7DH4F9QfdW7OGEJIJGCtd3wBPiw+36LWX5IsOxCh6Uz2E0CTDyLnw9LNte5KQCPAOGPrZiC5BdbOzBBJu1Z097Wyy9MaZIciDwZVm3T34PBhMl9aSPvB7vBAMrY5rTk5yRyCq4CelSllpVGn5qknSwvaTlWfRJFIX2CAhE7STN5cMNNDmIOZImyZn+Qv9ejN8stxFFpmwJXlACu+FxGJPF38w7tS/dHbRt+RG2N77iqvv7Sau5fHAcKRrB9DVMBXT+CjRHHeQDSs9CHqmooynn9wXvcxQvzQ=='\n"
     ]
    }
   ],
   "source": [
    "reply = pisgm.makeRequest(myKeyR, myID, gid)"
   ]
  },
  {
   "cell_type": "code",
   "execution_count": 5,
   "metadata": {},
   "outputs": [],
   "source": [
    " message = \"I've seen things you people wouldn't believe. Attack ships on fire off the Shoulder of Orion. I watched C-Beams, glitter in the dark off a Tannhauser gate. All those, moments, will be lost, in time, like tears... in rain. Time... to die. You've done a mna's job, sir. I guess you're through, huh? It's too bad she won't live! But then again, who does?\""
   ]
  },
  {
   "cell_type": "code",
   "execution_count": 6,
   "metadata": {},
   "outputs": [
    {
     "name": "stdout",
     "output_type": "stream",
     "text": [
      "640\n"
     ]
    },
    {
     "data": {
      "image/png": "[encoded data removed]",
      "text/plain": [
       "<PIL.Image.Image image mode=L size=20x32 at 0x7F270F874640>"
      ]
     },
     "execution_count": 6,
     "metadata": {},
     "output_type": "execute_result"
    }
   ],
   "source": [
    "image = pisgm.makeImage(message, myID, reply)\n",
    "image"
   ]
  },
  {
   "cell_type": "code",
   "execution_count": 7,
   "metadata": {},
   "outputs": [
    {
     "data": {
      "text/plain": [
       "\"I've seen things you people wouldn't believe. Attack ships on fire off the Shoulder of Orion. I watched C-Beams, glitter in the dark off a Tannhauser gate. All those, moments, will be lost, in time, like tears... in rain. Time... to die. You've done a mna's job, sir. I guess you're through, huh? It's too bad she won't live! But then again, who does?\\n\""
      ]
     },
     "execution_count": 7,
     "metadata": {},
     "output_type": "execute_result"
    }
   ],
   "source": [
    "pisgm.decodeImage(image, myKeyR, myID, gid)"
   ]
  },
  {
   "cell_type": "code",
   "execution_count": 8,
   "metadata": {},
   "outputs": [
    {
     "data": {
      "text/plain": [
       "\"I've seen things you people wouldn't believe. Attack ships on fire off the Shoulder of Orion. I watched C-Beams, glitter in the dark off a Tannhauser gate. All those, moments, will be lost, in time, like tears... in rain. Time... to die. You've done a mna's job, sir. I guess you're through, huh? It's too bad she won't live! But then again, who does?\\n\""
      ]
     },
     "execution_count": 8,
     "metadata": {},
     "output_type": "execute_result"
    }
   ],
   "source": [
    "pisgm.decodeImage(image, altKeyR, altID, gid)"
   ]
  },
  {
   "cell_type": "code",
   "execution_count": null,
   "metadata": {},
   "outputs": [],
   "source": []
  }
 ],
 "metadata": {
  "kernelspec": {
   "display_name": "Python 3",
   "language": "python",
   "name": "python3"
  },
  "language_info": {
   "codemirror_mode": {
    "name": "ipython",
    "version": 3
   },
   "file_extension": ".py",
   "mimetype": "text/x-python",
   "name": "python",
   "nbconvert_exporter": "python",
   "pygments_lexer": "ipython3",
   "version": "3.8.2"
  }
 },
 "nbformat": 4,
 "nbformat_minor": 2
}
